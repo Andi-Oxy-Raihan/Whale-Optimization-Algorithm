{
  "cells": [
    {
      "cell_type": "markdown",
      "metadata": {
        "id": "ZeWhQ9LQOa5p"
      },
      "source": [
        "#Whale Optimization Algorithm Sederhana\n"
      ]
    },
    {
      "cell_type": "code",
      "execution_count": 1,
      "metadata": {
        "colab": {
          "base_uri": "https://localhost:8080/"
        },
        "id": "sHlD-sb4nBm4",
        "outputId": "407107d1-5da7-4194-985e-912adfc5f3a7"
      },
      "outputs": [
        {
          "name": "stdout",
          "output_type": "stream",
          "text": [
            "Minimum ditemukan di x = 0.10617436482089762, y = 3.724161636548735\n",
            "Nilai minimum f(x, y) = 1.4384778316772484\n"
          ]
        }
      ],
      "source": [
        "# 2 Dimensi\n",
        "import numpy as np\n",
        "\n",
        "# Fungsi yang ingin diminimalkan\n",
        "def objective_function(pos):\n",
        "    x, y,  = pos\n",
        "    return (x + 2*y - 7)**2 + (2*x + y - 5)**2\n",
        "\n",
        "# Inisialisasi parameter WOA\n",
        "num_whales = 10\n",
        "max_iter = 100\n",
        "dim = 2\n",
        "lb = -10\n",
        "ub = 10\n",
        "\n",
        "a_linear = lambda t: 2 - t * (2 / max_iter)\n",
        "\n",
        "# Inisialisasi populasi\n",
        "positions = np.random.uniform(lb, ub, (num_whales, dim))\n",
        "fitness = np.array([objective_function(pos) for pos in positions])\n",
        "best_idx = np.argmin(fitness)\n",
        "best_position = positions[best_idx].copy()\n",
        "best_score = fitness[best_idx]\n",
        "\n",
        "# Algoritma utama\n",
        "for t in range(max_iter):\n",
        "    a = a_linear(t)\n",
        "    for i in range(num_whales):\n",
        "        r1 = np.random.rand() # bisa dioptimasi\n",
        "        r2 = np.random.rand() # bisa dioptimasi\n",
        "        A = 2 * a * r1 - a\n",
        "        C = 2 * r2\n",
        "\n",
        "        p = np.random.rand() # bisa dioptimasi\n",
        "        if p < 0.5:\n",
        "            if abs(A) < 1:\n",
        "                D = abs(C * best_position - positions[i])\n",
        "                positions[i] = best_position - A * D\n",
        "            else:\n",
        "                rand_idx = np.random.randint(num_whales)\n",
        "                D = abs(C * positions[rand_idx] - positions[i])\n",
        "                positions[i] = positions[rand_idx] - A * D\n",
        "        else:\n",
        "            D = abs(best_position - positions[i])\n",
        "            b = 1\n",
        "            l = np.random.uniform(-1, 1)\n",
        "            positions[i] = D * np.exp(b * l) * np.cos(2 * np.pi * l) + best_position\n",
        "\n",
        "        # Batasi dalam ruang pencarian\n",
        "        positions[i] = np.clip(positions[i], lb, ub)\n",
        "\n",
        "    # Evaluasi dan update\n",
        "    fitness = np.array([objective_function(pos) for pos in positions])\n",
        "    current_best_idx = np.argmin(fitness)\n",
        "    if fitness[current_best_idx] < best_score:\n",
        "        best_score = fitness[current_best_idx]\n",
        "        best_position = positions[current_best_idx].copy()\n",
        "\n",
        "# Hasil akhir\n",
        "print(f\"Minimum ditemukan di x = {best_position[0]}, y = {best_position[1]}\")\n",
        "print(f\"Nilai minimum f(x, y) = {best_score}\")"
      ]
    },
    {
      "cell_type": "markdown",
      "metadata": {
        "id": "hTQwU7HeCBB2"
      },
      "source": [
        "p < 0,5 (|A| < 1) = Paus mengejar mangsa (exploitation)\n",
        "𝑋baru = 𝑋* − 𝐴 ⋅ 𝐷 (kalau |A| < 1\n",
        "\n",
        "p < 0,5 (|A| >= 1) =\n",
        "Xbaru = Xacak − A⋅D\n",
        "\n",
        "p > 0,5 (Paus membuat spiral mengejar mangsa (bubble-net attack))\n",
        "Xbaru = D' ⋅ e^bl ⋅ cos(2πl) + X*\n",
        "\n",
        "Dengan =\n",
        "- D' = |X* - X|\n",
        "- b = konstanta spiral (biassanya 1)\n",
        "- l = bilangan acak di [-1,1]"
      ]
    }
  ],
  "metadata": {
    "colab": {
      "provenance": []
    },
    "kernelspec": {
      "display_name": "Python 3",
      "name": "python3"
    },
    "language_info": {
      "name": "python"
    }
  },
  "nbformat": 4,
  "nbformat_minor": 0
}
